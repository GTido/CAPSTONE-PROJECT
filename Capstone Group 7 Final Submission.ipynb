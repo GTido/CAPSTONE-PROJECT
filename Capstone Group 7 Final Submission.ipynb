{
 "cells": [
  {
   "cell_type": "markdown",
   "metadata": {},
   "source": [
    "### Objectives "
   ]
  },
  {
   "cell_type": "markdown",
   "metadata": {},
   "source": [
    "### Business Understanding"
   ]
  },
  {
   "cell_type": "markdown",
   "metadata": {},
   "source": [
    "### Data Understanding\n",
    "#### Data Source\n",
    "#### Features\n",
    "#### Target"
   ]
  },
  {
   "cell_type": "code",
   "execution_count": null,
   "metadata": {},
   "outputs": [],
   "source": [
    "#pip install lightgbm"
   ]
  },
  {
   "cell_type": "code",
   "execution_count": null,
   "metadata": {},
   "outputs": [],
   "source": [
    "#pip install catboost"
   ]
  },
  {
   "cell_type": "code",
   "execution_count": 48,
   "metadata": {},
   "outputs": [
    {
     "name": "stdout",
     "output_type": "stream",
     "text": [
      "Collecting stopwordsisoNote: you may need to restart the kernel to use updated packages.\n",
      "  Downloading stopwordsiso-0.6.1-py3-none-any.whl (73 kB)\n",
      "Installing collected packages: stopwordsiso\n",
      "Successfully installed stopwordsiso-0.6.1\n",
      "\n"
     ]
    }
   ],
   "source": [
    "pip install stopwordsiso"
   ]
  },
  {
   "cell_type": "code",
   "execution_count": 49,
   "metadata": {},
   "outputs": [
    {
     "data": {
      "text/plain": [
       "{'akasema',\n",
       " 'alikuwa',\n",
       " 'alisema',\n",
       " 'baada',\n",
       " 'basi',\n",
       " 'bila',\n",
       " 'cha',\n",
       " 'chini',\n",
       " 'hadi',\n",
       " 'hapo',\n",
       " 'hata',\n",
       " 'hivyo',\n",
       " 'hiyo',\n",
       " 'huku',\n",
       " 'huo',\n",
       " 'ili',\n",
       " 'ilikuwa',\n",
       " 'juu',\n",
       " 'kama',\n",
       " 'karibu',\n",
       " 'katika',\n",
       " 'kila',\n",
       " 'kima',\n",
       " 'kisha',\n",
       " 'kubwa',\n",
       " 'kutoka',\n",
       " 'kuwa',\n",
       " 'kwa',\n",
       " 'kwamba',\n",
       " 'kwenda',\n",
       " 'kwenye',\n",
       " 'la',\n",
       " 'lakini',\n",
       " 'mara',\n",
       " 'mdogo',\n",
       " 'mimi',\n",
       " 'mkubwa',\n",
       " 'mmoja',\n",
       " 'moja',\n",
       " 'muda',\n",
       " 'mwenye',\n",
       " 'na',\n",
       " 'naye',\n",
       " 'ndani',\n",
       " 'ng',\n",
       " 'ni',\n",
       " 'nini',\n",
       " 'nonkungu',\n",
       " 'pamoja',\n",
       " 'pia',\n",
       " 'sana',\n",
       " 'sasa',\n",
       " 'sauti',\n",
       " 'tafadhali',\n",
       " 'tena',\n",
       " 'tu',\n",
       " 'vile',\n",
       " 'wa',\n",
       " 'wakati',\n",
       " 'wake',\n",
       " 'walikuwa',\n",
       " 'wao',\n",
       " 'watu',\n",
       " 'wengine',\n",
       " 'wote',\n",
       " 'ya',\n",
       " 'yake',\n",
       " 'yangu',\n",
       " 'yao',\n",
       " 'yeye',\n",
       " 'yule',\n",
       " 'za',\n",
       " 'zaidi',\n",
       " 'zake'}"
      ]
     },
     "execution_count": 49,
     "metadata": {},
     "output_type": "execute_result"
    }
   ],
   "source": [
    "# Python\n",
    "import stopwordsiso as stopwords\n",
    "stopwords.stopwords(\"sw\")  # swahili stopwords\n"
   ]
  },
  {
   "cell_type": "code",
   "execution_count": 1,
   "metadata": {},
   "outputs": [],
   "source": [
    "# Importing pandas for data manipulation and analysis\n",
    "import pandas as pd\n",
    "\n",
    "# Importing numpy for numerical operations\n",
    "import numpy as np\n",
    "\n",
    "# Importing re for regular expression operations\n",
    "import re \n",
    "\n",
    "# Importing matplotlib.pyplot for data visualization\n",
    "import matplotlib.pyplot as plt\n",
    "\n",
    "# Importing seaborn for statistical data visualization\n",
    "import seaborn as sns\n",
    "\n",
    "# Importing nltk for natural language processing tasks\n",
    "import nltk\n",
    "from nltk.corpus import stopwords\n",
    "from nltk.stem import WordNetLemmatizer\n",
    "from nltk.tokenize import word_tokenize\n",
    "from nltk.tokenize import RegexpTokenizer\n",
    "import string \n",
    "\n",
    "\n",
    "# Importing CountVectorizer for converting text data into a matrix of token counts\n",
    "from sklearn.feature_extraction.text import CountVectorizer\n",
    "\n",
    "# Importing train_test_split for splitting data into training and testing sets\n",
    "from sklearn.model_selection import train_test_split\n",
    "\n",
    "# Importing various classification models for building predictive models\n",
    "from sklearn.linear_model import LogisticRegression\n",
    "from sklearn.tree import DecisionTreeClassifier\n",
    "from sklearn.ensemble import RandomForestClassifier\n",
    "from sklearn.svm import SVC\n",
    "from sklearn.naive_bayes import MultinomialNB\n",
    "from sklearn.linear_model import SGDClassifier, RidgeClassifier, Lasso, ElasticNet, Ridge, BayesianRidge\n",
    "from xgboost import XGBClassifier\n",
    "from lightgbm import LGBMClassifier\n",
    "#from catboost import CatBoostClassifier\n",
    "\n",
    "# Importing log_loss and accuracy_score for model evaluation\n",
    "from sklearn.metrics import accuracy_score, log_loss\n",
    "\n",
    "# Importing TfidfVectorizer for converting text data into a matrix of TF-IDF features\n",
    "from sklearn.feature_extraction.text import TfidfVectorizer\n",
    "\n",
    "# Importing hstack for horizontal stacking of sparse matrices\n",
    "from scipy.sparse import hstack\n",
    "\n",
    "# Suppressing warnings\n",
    "import warnings\n",
    "warnings.filterwarnings('ignore')\n",
    "\n",
    "# Importing joblib for saving and loading models\n",
    "import joblib\n"
   ]
  },
  {
   "cell_type": "markdown",
   "metadata": {},
   "source": [
    "### 1. Load Data\n"
   ]
  },
  {
   "cell_type": "code",
   "execution_count": 2,
   "metadata": {},
   "outputs": [],
   "source": [
    "#load the data\n",
    "train = pd.read_csv('Train.csv')\n",
    "test = pd.read_csv('Test.csv')\n",
    "sub = pd.read_csv('SampleSubmission.csv')"
   ]
  },
  {
   "cell_type": "code",
   "execution_count": 3,
   "metadata": {},
   "outputs": [
    {
     "name": "stdout",
     "output_type": "stream",
     "text": [
      "First five rows of train data:\n",
      "       id                                            content  category\n",
      "0     SW0   SERIKALI imesema haitakuwa tayari kuona amani...   Kitaifa\n",
      "1     SW1   Mkuu wa Mkoa wa Tabora, Aggrey Mwanri amesiti...  Biashara\n",
      "2    SW10   SERIKALI imetoa miezi sita kwa taasisi zote z...   Kitaifa\n",
      "3   SW100   KAMPUNI ya mchezo wa kubahatisha ya M-bet ime...   michezo\n",
      "4  SW1000   WATANZANIA wamekumbushwa kusherehekea sikukuu...   Kitaifa\n",
      "\n",
      "First five rows of test data:\n",
      "                                 swahili_id  \\\n",
      "0  001dd47ac202d9db6624a5ff734a5e7dddafeaf2   \n",
      "1  0043d97f7690e9bc02f0ed8bb2b260d1d44bad92   \n",
      "2  00579c2307b5c11003d21c40c3ecff5e922c3fd8   \n",
      "3  00868eeee349e286303706ef0ffd851f39708d37   \n",
      "4  00a5cb12d3058dcf2e42f277eee599992db32412   \n",
      "\n",
      "                                             content  \n",
      "0   MKUU wa Wilaya ya Bahi, Mkoani Dodoma, Mwanah...  \n",
      "1   MWISHONI mwa wiki hii, Timu ya Soka ya Taifa,...  \n",
      "2   THAMANI ya mauzo ya bidhaa za Afrika Masharik...  \n",
      "3   MENEJA Mawasiliano na Utetezi wa asasi ya AGP...  \n",
      "4   WAZIRI wa Kilimo, Japhet Hasunga amesema seri...  \n"
     ]
    }
   ],
   "source": [
    "# Check the first five rows of train data\n",
    "print(\"First five rows of train data:\")\n",
    "print(train.head())\n",
    "\n",
    "# Check the first five rows of test data\n",
    "print(\"\\nFirst five rows of test data:\")\n",
    "print(test.head())\n",
    "\n"
   ]
  },
  {
   "cell_type": "code",
   "execution_count": 4,
   "metadata": {},
   "outputs": [
    {
     "name": "stdout",
     "output_type": "stream",
     "text": [
      "Train Data Shape: (5151, 3)\n",
      "Test Data Shape: (1288, 2)\n"
     ]
    }
   ],
   "source": [
    "# Check the shape of train data\n",
    "print(\"Train Data Shape:\", train.shape)\n",
    "\n",
    "# Check the shape of test data\n",
    "print(\"Test Data Shape:\", test.shape)\n",
    "\n"
   ]
  },
  {
   "cell_type": "code",
   "execution_count": 5,
   "metadata": {},
   "outputs": [
    {
     "name": "stdout",
     "output_type": "stream",
     "text": [
      "Train Data Information:\n",
      "<class 'pandas.core.frame.DataFrame'>\n",
      "RangeIndex: 5151 entries, 0 to 5150\n",
      "Data columns (total 3 columns):\n",
      " #   Column    Non-Null Count  Dtype \n",
      "---  ------    --------------  ----- \n",
      " 0   id        5151 non-null   object\n",
      " 1   content   5151 non-null   object\n",
      " 2   category  5151 non-null   object\n",
      "dtypes: object(3)\n",
      "memory usage: 120.9+ KB\n",
      "None\n",
      "\n",
      "Test Data Information:\n",
      "<class 'pandas.core.frame.DataFrame'>\n",
      "RangeIndex: 1288 entries, 0 to 1287\n",
      "Data columns (total 2 columns):\n",
      " #   Column      Non-Null Count  Dtype \n",
      "---  ------      --------------  ----- \n",
      " 0   swahili_id  1288 non-null   object\n",
      " 1   content     1288 non-null   object\n",
      "dtypes: object(2)\n",
      "memory usage: 20.2+ KB\n",
      "None\n"
     ]
    }
   ],
   "source": [
    "# Check the information of train data\n",
    "print(\"Train Data Information:\")\n",
    "print(train.info())\n",
    "\n",
    "# Check the information of test data\n",
    "print(\"\\nTest Data Information:\")\n",
    "print(test.info())\n"
   ]
  },
  {
   "cell_type": "code",
   "execution_count": 6,
   "metadata": {},
   "outputs": [
    {
     "name": "stdout",
     "output_type": "stream",
     "text": [
      "Train Data Columns:\n",
      "Index(['id', 'content', 'category'], dtype='object')\n",
      "\n",
      "Test Data Columns:\n",
      "Index(['swahili_id', 'content'], dtype='object')\n"
     ]
    }
   ],
   "source": [
    "# Check the columns of train data\n",
    "print(\"Train Data Columns:\")\n",
    "print(train.columns)\n",
    "\n",
    "# Check the columns of test data\n",
    "print(\"\\nTest Data Columns:\")\n",
    "print(test.columns)\n"
   ]
  },
  {
   "cell_type": "markdown",
   "metadata": {},
   "source": [
    "From the above lines of codes we have  rows 5151 and 3 columns on train dataset and 1288 rows, 2 columns in test dataset. The tree columns in train dataset are; Id, Content and category and in test dataset we have swahili_id and content columns. Also our test data is approximately 20%  of the train and test compined. On both dataset we have no missing values. "
   ]
  },
  {
   "cell_type": "markdown",
   "metadata": {},
   "source": [
    "#### Distribution Of Target \n"
   ]
  },
  {
   "cell_type": "markdown",
   "metadata": {},
   "source": [
    "We start by investing the content in the category column which is our target column"
   ]
  },
  {
   "cell_type": "code",
   "execution_count": 7,
   "metadata": {},
   "outputs": [
    {
     "name": "stdout",
     "output_type": "stream",
     "text": [
      "Values in 'category' column: ['Kitaifa' 'Biashara' 'michezo' 'Kimataifa' 'Burudani']\n"
     ]
    }
   ],
   "source": [
    "# Print statement to display the unique values in the \"category\" column\n",
    "train.target_names = train[\"category\"].unique()\n",
    "print(\"Values in 'category' column:\", train.target_names)\n"
   ]
  },
  {
   "cell_type": "markdown",
   "metadata": {},
   "source": [
    "We know that there are five categories represented. How many are there of each?"
   ]
  },
  {
   "cell_type": "code",
   "execution_count": 8,
   "metadata": {},
   "outputs": [
    {
     "name": "stdout",
     "output_type": "stream",
     "text": [
      "Distribution of categories:\n",
      "              count target name\n",
      "target value                   \n",
      "Kitaifa        2000     Kitaifa\n",
      "michezo        1720     michezo\n",
      "Biashara       1360    Biashara\n",
      "Kimataifa        54   Kimataifa\n",
      "Burudani         17    Burudani\n"
     ]
    }
   ],
   "source": [
    "import pandas as pd\n",
    "\n",
    "# Count the occurrences of each category\n",
    "category_counts = train[\"category\"].value_counts()\n",
    "\n",
    "# Create a DataFrame to hold the counts and target names\n",
    "train_target_counts = pd.DataFrame(category_counts)\n",
    "train_target_counts[\"target name\"] = train_target_counts.index\n",
    "\n",
    "# Rename the columns\n",
    "train_target_counts.columns = [\"count\", \"target name\"]\n",
    "train_target_counts.index.name = \"target value\"\n",
    "\n",
    "# Display the modified DataFrame\n",
    "print(\"Distribution of categories:\")\n",
    "print(train_target_counts)\n"
   ]
  },
  {
   "cell_type": "markdown",
   "metadata": {},
   "source": [
    "In this case, the dataset seems to have a varying number of instances across different categories, with \"Kitaifa\", \"michezo\", and \"Biashara\" being the most represented categories, while \"Kimataifa\" and \"Burudani\" have fewer instances.. Now let's look at the features."
   ]
  },
  {
   "cell_type": "markdown",
   "metadata": {},
   "source": [
    "#### Visually Inspecting Features "
   ]
  },
  {
   "cell_type": "code",
   "execution_count": 9,
   "metadata": {},
   "outputs": [
    {
     "name": "stdout",
     "output_type": "stream",
     "text": [
      "Index: 1320\n",
      "Category: Kitaifa\n",
      "Full text:\n",
      " TEKNOLOJIA ya maabara ya kupima afya ya udongo kwa gari maalumu lenye uwezo kupima sampuli 100 za udongo kwa siku imezinduliwa kupima udongo kumhakikishia mkulima uzalishaji mazao kwa wingi na yenye tija sokoni.Uzinduzi wa teknolojia hiyo kutoka Uholanzi ulifanywa Arusha na Naibu Waziri wa Mifugo na Uvuvi, Abdallah Ulega na Naibu Waziri wa Kilimo na Ubora wa Chakula wa Uholanzi, Marjolijn Sonnema kwa niaba ya nchi yake ili kufanikisha mageuzi katika sekta ya kilimo.Akizungumza baada ya kufanya uzinduzi wa teknolojia hiyo, Ulega aliishukuru Serikali ya Uholanzi kwa kutoa teknolojia yake nchini kwani italeta mapinduzi katika uzalishaji mazao.“Kupima afya ya udongo kunatoa majibu juu ya ubora wa ardhi, mazao yanayofaa kulimwa eneo hilo, kiwango cha mbolea kinachotakiwa na pia makadirio ya mavuno,” amesema Waziri Ulega.Amesema gharama ya kupima shamba ni Sh 25,000 hadi Sh 30,000 ambazo wakulima wanaweza kumudu na kuwataka wapime mashamba yao kabla ya kilimo kuanza ili kujua matatizo yaliyopo kwenye ardhi yake na nini kifanyike ili tija ya uzalishaji iongezeke zaidi.“Teknolojia hii imeletwa kwetu hivyo tuna kila sababu ya kuhamasisha wakulima kupima mashamba yao ili wajipatie uhakika wa zao linalofaa katika ardhi yake na nini afanye katika kuboresha kuongeza tija ya uzalishaji,” alisema.Naibu Waziri Ulega alisema mageuzi katika sekta ya kilimo yatapatikana kupitia teknolojia ya kupima afya ya udongo na kusababisha kuongezeka uzalishaji wa mazao ya kilimo hali itakayochochea ujenzi wa viwanda vya kuchakata na kuongeza thamani ya mazao.“Ushirikiano wa serikali na sekta binafsi unachochea kasi ya maendeleo kwa kuibua teknolojia na ujuzi kuiletea nchi maendeleo, naipongeza kampuni ya Life Support System Tanzania (LSSL) kwa kuwekeza kwenye teknolojia hii,” amesema Naibu Waziri Ulega.Mkurugenzi Mkuu wa LSSL, Dk Edmond Matafu amesema magari manne yapo tayari na mashine 100 za mkono za kupimia ambazo zitatumiwa na maofisa ugani kuchukua sampuli za udongo katika maeneo ya vijiji kote nchini.Amesema juhudi za serikali za kujenga uchumi wa kati na viwanda zitatekelezeka nchini kwa ushirikiano kati ya sekta binafsi na serikali ili kuhakikisha vitu vinavyokwamisha maendeleo vinatatuliwa maendeleo yaweze kufikiwa.“Upimaji afya ya udongo utafanyika kote nchini kwani tumejipanga vizuri kutoa huduma hii kwa wakulima hivyo ushirikiano ndio kitu muhimu kufanikisha suala hili ambalo litaenda kuinua uzalishaji wa zao nchini,” ame  sema Dk Matafu.Uzinduzi wa maabara hiyo ulishuhudiwa na Naibu Waziri wa Kilimo na Ubora wa Chakula kutoka nchini Uholanzi, Marjolijn Sonnema na pia Balozi wa Uholanzi nchini, Joroen Verheul.Wengine ni Katibu Mkuu Wizara ya Mifugo na Uvuvi, Profesa Elisante ole Gabriel na Katibu Mkuu Wizara ya Kilimo, Methew Mtigumwe na Mkurugenzi Mtendaji wa Kituo cha Kuendeleza Kilimo Nyanda za Juu Kusini, Geoffrey Kirenga.\n",
      "\n",
      "\n",
      "Index: 4481\n",
      "Category: Kitaifa\n",
      "Full text:\n",
      " MAMLAKA ya Usimamizi wa Bandari Tanzania (TPA) imekamilisha ukusanyaji taarifa za bandari nchini na kubainisha kuwa kuna bandari bubu (zisizo rasmi) 208 katika mwambao wa Bahari ya Hindi.Naibu Waziri wa Ujenzi, Uchukuzi na Mawasiliano, Atashasta Nditiye alitoa takwimu hizo bungeni jana wakati akijibu swali la Mbunge wa Tanga Mjini, Mussa Mbarouk (CUF). Mbunge Mbarouk alitaka kujua ni lini serikali itarasimisha bandari za kienyeji (bubu) kwa kujenga gati pamoja na kituo cha Forodha katika kijiji cha Kigombe (Muheza) na Kipumbwi (Pangani).Nditiye alisema serikali ina taarifa juu ya uwepo wa bandari bubu katika mwambao wa pwani pamoja na changamoto za kiusalama, kiulinzi na kiuchumi zinazoletwa na bandari hizo. Ili kudhibiti matumizi ya bandari hizo, mamlaka zinazohusika zimeelekezwa kushirikiana na kuweka mikakati ya pamoja na kudhibiti matumizi ya bandari hizo. Miongoni mwa mikakati hiyo, ni pamoja na kutambua bandari zenye umuhimu kwa wananchi kiuchumi na kijamii ili kuzirasimisha kwa kuziweka chini ya uangalizi wa vijiji vilivyo kwenye maeneo husika.Alisema bandari ya Kigombe na Kipumbwi wilayani Muheza na Pangani ni miongoni mwa bandari 24 zenye umuhimu kwa wananchi kiuchumi na kijamii na zimeorodheshwa kwa ajili ya kurasimishwa.Alisema hatua inayoendelea hivi sasa kuhusu bandari hizo ni kuzipanga katika madaraja ili kubaini zile ambazo zitachukuliwa na TPA moja kwa moja kwa kuziendesha baada ya kuboresha.Alisema bandari hizo ili ziendelezwe miundombinu yake, ikiwemo kujenga gati pamoja na kuweka kituo cha forodha, zile ambazo zitaendeshwa kwa mkata. Nditiye alisema kazi hii inatarajiwa kukamilika kabla ya kumalizika kwa mwaka wa fedha 2019/20. Baada ya urasimishaji huo, usimamizi wa sheria na udhibiti wa maeneo hayo utafuata.\n",
      "\n",
      "\n",
      "Index: 768\n",
      "Category: Biashara\n",
      "Full text:\n",
      " Akisoma hotuba kwa niaba ya mama Pinda, Naibu Waziri wa Sheria na Katiba, Angela Kairuki alisema wasomi wa biashara wakitumia elimu zao vizuri nchi itapiga hatua kubwa kimaendele.“Elimu ya biashara itumike vizuri katika kushauri, kuelekeza na kuhamasisha uwekezaji mkubwa kimaendeleo,” alisema sehemu ya hotuba hiyo ya Mama Pinda.Hotuba hiyo iliyosomwa katika Chuo cha Elimu ya Biashara (CBE) juzi na Kairuki, iliambatana na ufunguzi wa jumuia ya wasomi waliosoma katika chuo hicho.Alisema umoja huo uliozinduliwa jana utaleta mafanikio makubwa hasa katika wanataaluma wa elimu ya biashara nchini na pia ushauri wao ukitumika vizuri kuletea maendeleo nchi.Mama Pinda ni miongoni ya watu waliosoma CBE, baadhi ya wasomi waliosoma katika chuo hicho walioshiriki ni pamoja na Kamishna Mkuu wa Mamlaka ya Mapato (TRA), Harry Kitilya na Kaimu Kamanda wa Polisi mkoa wa Dodoma ,Suzan Kaganda.Wakati huo huo leo chuo hicho kinafanya mahafali ya wahitimu katika kozi na shahada mbalimbali.\n",
      "\n",
      "\n"
     ]
    }
   ],
   "source": [
    "# Sample 3 records from the train dataset\n",
    "sampled_records = train.sample(3)\n",
    "\n",
    "# Display the full text and category label of each sampled record\n",
    "for index, row in sampled_records.iterrows():\n",
    "    print(\"Index:\", index)\n",
    "    print(\"Category:\", row['category'])\n",
    "    print(\"Full text:\")\n",
    "    print(row['content'])\n",
    "    print(\"\\n\")  # Add a newline for readability\n"
   ]
  },
  {
   "cell_type": "markdown",
   "metadata": {},
   "source": [
    "in the above samples we haver loaded the three categories which are somehow balanced , kitaifa, Biashara and michezo. Now that we have an idea of the train dataset content we can move on to data cleaning and data exploratory analysis."
   ]
  },
  {
   "cell_type": "markdown",
   "metadata": {},
   "source": [
    "### 2.Perform Data Cleaning and Exploratory Data Analysis with nltk\n",
    "\n",
    "One of the most basic problems seen when working with text data is things like punctuation, capitalization, stopwords and numbers. We perform text cleaning by removing the following; punctuation, capitalization, numbers and stopwords from our content column. "
   ]
  },
  {
   "cell_type": "code",
   "execution_count": 10,
   "metadata": {},
   "outputs": [],
   "source": [
    "X = train[['content']]  # Features\n",
    "y = train['category']   # Target variable\n",
    "\n",
    "# Splitting the dataset into train and test sets\n",
    "X_train, X_test, y_train, y_test = train_test_split(X, y, test_size=0.2, random_state=42)"
   ]
  },
  {
   "cell_type": "markdown",
   "metadata": {},
   "source": [
    "#### Standarizing Case , removing punctiation and numbers"
   ]
  },
  {
   "cell_type": "code",
   "execution_count": 11,
   "metadata": {},
   "outputs": [],
   "source": [
    "import re\n",
    "import string\n",
    "\n",
    "def text_cleaning(text):\n",
    "    '''Make text lowercase, remove text in square brackets, remove links, remove punctuation,\n",
    "    and remove words containing numbers.'''\n",
    "    # Convert text to lowercase\n",
    "    text = text.lower()\n",
    "    # Remove text in square brackets\n",
    "    text = re.sub(r'\\[.*?\\]', '', text)\n",
    "    # Remove links\n",
    "    text = re.sub(r'https?://\\S+|www\\.\\S+', '', text)\n",
    "    # Remove HTML tags\n",
    "    text = re.sub(r'<.*?>', '', text)\n",
    "    # Remove punctuation except for spaces\n",
    "    text = re.sub(r'[^\\w\\s]', '', text)\n",
    "    # Remove words containing numbers\n",
    "    text = re.sub(r'\\w*\\d\\w*', '', text)\n",
    "    return text\n",
    "\n"
   ]
  },
  {
   "cell_type": "code",
   "execution_count": 12,
   "metadata": {},
   "outputs": [
    {
     "name": "stdout",
     "output_type": "stream",
     "text": [
      "                                                content  \\\n",
      "2024   WAKATI wachimbaji wakubwa, wa kati na wadogo ...   \n",
      "3229   NIMEFIKA hospitali moja kubwa hapa jijini Dar...   \n",
      "99     Mkurugenzi Mtendaji, wa mfuko huo, Stephen Em...   \n",
      "2952   Tasnia ya habari imeaswa kuendana na mabadili...   \n",
      "4580   WAZIRI wa Mambo ya Nje na Ushirikiano wa Afri...   \n",
      "\n",
      "                                        content_cleaned  \n",
      "2024   wakati wachimbaji wakubwa wa kati na wadogo w...  \n",
      "3229   nimefika hospitali moja kubwa hapa jijini dar...  \n",
      "99     mkurugenzi mtendaji wa mfuko huo stephen emma...  \n",
      "2952   tasnia ya habari imeaswa kuendana na mabadili...  \n",
      "4580   waziri wa mambo ya nje na ushirikiano wa afri...  \n"
     ]
    }
   ],
   "source": [
    "# Apply text cleaning to the 'content' column of the X_train dataset\n",
    "train['content_cleaned'] = train['content'].apply(text_cleaning)\n",
    "X_train['content_cleaned'] = X_train['content'].apply(text_cleaning)\n",
    "test['content_cleaned'] = test['content'].apply(text_cleaning)\n",
    "sampled_records['content_cleaned'] = sampled_records['content'].apply(text_cleaning)\n",
    "# Display the first few rows of the cleaned dataset\n",
    "print(X_train.head())"
   ]
  },
  {
   "cell_type": "markdown",
   "metadata": {},
   "source": [
    "#### Tokenizing\n",
    "Now that the case is consistent it's time to convert each document from a single long string into a set of tokens."
   ]
  },
  {
   "cell_type": "code",
   "execution_count": 13,
   "metadata": {},
   "outputs": [
    {
     "name": "stdout",
     "output_type": "stream",
     "text": [
      "                                                content  \\\n",
      "2024   WAKATI wachimbaji wakubwa, wa kati na wadogo ...   \n",
      "3229   NIMEFIKA hospitali moja kubwa hapa jijini Dar...   \n",
      "99     Mkurugenzi Mtendaji, wa mfuko huo, Stephen Em...   \n",
      "2952   Tasnia ya habari imeaswa kuendana na mabadili...   \n",
      "4580   WAZIRI wa Mambo ya Nje na Ushirikiano wa Afri...   \n",
      "\n",
      "                                        content_cleaned  \\\n",
      "2024   wakati wachimbaji wakubwa wa kati na wadogo w...   \n",
      "3229   nimefika hospitali moja kubwa hapa jijini dar...   \n",
      "99     mkurugenzi mtendaji wa mfuko huo stephen emma...   \n",
      "2952   tasnia ya habari imeaswa kuendana na mabadili...   \n",
      "4580   waziri wa mambo ya nje na ushirikiano wa afri...   \n",
      "\n",
      "                                                 tokens  \n",
      "2024  [wakati, wachimbaji, wakubwa, wa, kati, na, wa...  \n",
      "3229  [nimefika, hospitali, moja, kubwa, hapa, jijin...  \n",
      "99    [mkurugenzi, mtendaji, wa, mfuko, huo, stephen...  \n",
      "2952  [tasnia, ya, habari, imeaswa, kuendana, na, ma...  \n",
      "4580  [waziri, wa, mambo, ya, nje, na, ushirikiano, ...  \n"
     ]
    }
   ],
   "source": [
    "# Define the basic token pattern\n",
    "basic_token_pattern = r\"(?u)\\b\\w\\w+\\b\"\n",
    "\n",
    "# Tokenize the text using NLTK's word_tokenize function\n",
    "def tokenize_text(text):\n",
    "    \"\"\"\n",
    "    Tokenize the input text into words and punctuation tokens.\n",
    "    \n",
    "    Parameters:\n",
    "    text (str): The input text.\n",
    "    \n",
    "    Returns:\n",
    "    list: List of tokens.\n",
    "    \"\"\"\n",
    "    return word_tokenize(text)\n",
    "\n",
    "# Tokenize the 'content_cleaned' column in the X_train dataset\n",
    "train['tokens'] = train['content_cleaned'].apply(tokenize_text)\n",
    "sampled_records['tokens'] = sampled_records['content_cleaned'].apply(tokenize_text)\n",
    "X_train['tokens'] = X_train['content_cleaned'].apply(tokenize_text)\n",
    "test['tokens'] = test['content_cleaned'].apply(tokenize_text)\n",
    "# Display the first few rows of the tokenized dataset\n",
    "print(X_train.head())"
   ]
  },
  {
   "cell_type": "markdown",
   "metadata": {},
   "source": [
    "Visualizing one of the row"
   ]
  },
  {
   "cell_type": "code",
   "execution_count": 14,
   "metadata": {},
   "outputs": [
    {
     "data": {
      "text/plain": [
       "['bendera',\n",
       " 'alisema',\n",
       " 'hayo',\n",
       " 'juzi',\n",
       " 'mjini',\n",
       " 'hapa',\n",
       " 'wakati',\n",
       " 'akifungua',\n",
       " 'semina',\n",
       " 'kwa',\n",
       " 'wajasiriamali',\n",
       " 'wa',\n",
       " 'mkoa',\n",
       " 'wa',\n",
       " 'morogoro',\n",
       " 'juu',\n",
       " 'ya',\n",
       " 'kitengo',\n",
       " 'cha',\n",
       " 'kukuza']"
      ]
     },
     "execution_count": 14,
     "metadata": {},
     "output_type": "execute_result"
    }
   ],
   "source": [
    "example_tokens = X_train.iloc[250][\"tokens\"][:20]\n",
    "example_tokens"
   ]
  },
  {
   "cell_type": "markdown",
   "metadata": {},
   "source": [
    "Now that our data is clean we can perform EDA to understands words distribution"
   ]
  },
  {
   "cell_type": "markdown",
   "metadata": {},
   "source": [
    "#### Exploratory Data Analysis: Frequency Distributions"
   ]
  },
  {
   "cell_type": "markdown",
   "metadata": {},
   "source": [
    " we use FreqDist from NLTK which allows us to pass in a single list of words, and it produces a dictionary-like output of those words and their frequencies. Then use Matplotlib to visualize the most common words of our content "
   ]
  },
  {
   "cell_type": "code",
   "execution_count": 15,
   "metadata": {},
   "outputs": [
    {
     "data": {
      "text/plain": [
       "FreqDist({'wa': 3, 'kampuni': 3, 'ya': 2, 'tanzania': 2, 'kwenye': 2, 'nchini': 2, 'cha': 2, 'na': 2, 'mkurugenzi': 1, 'tbl': 1, ...})"
      ]
     },
     "execution_count": 15,
     "metadata": {},
     "output_type": "execute_result"
    }
   ],
   "source": [
    "from nltk import FreqDist\n",
    "\n",
    "example_freq_dist = FreqDist(X_train.iloc[600][\"tokens\"][:50])\n",
    "example_freq_dist"
   ]
  },
  {
   "cell_type": "code",
   "execution_count": 18,
   "metadata": {},
   "outputs": [
    {
     "data": {
      "image/png": "[encoded data removed]",
      "text/plain": [
       "<Figure size 432x288 with 1 Axes>"
      ]
     },
     "metadata": {
      "needs_background": "light"
     },
     "output_type": "display_data"
    }
   ],
   "source": [
    "from nltk import FreqDist\n",
    "from matplotlib.ticker import MaxNLocator\n",
    "\n",
    "def visualize_top_10(freq_dist, title):\n",
    "\n",
    "    # Extract data for plotting\n",
    "    top_10 = list(zip(*freq_dist.most_common(10)))\n",
    "    tokens = top_10[0]\n",
    "    counts = top_10[1]\n",
    "\n",
    "    # Set up plot and plot data\n",
    "    fig, ax = plt.subplots()\n",
    "    ax.bar(tokens, counts)\n",
    "\n",
    "    # Customize plot appearance\n",
    "    ax.set_title(title)\n",
    "    ax.set_ylabel(\"Count\")\n",
    "    ax.yaxis.set_major_locator(MaxNLocator(integer=True))\n",
    "    ax.tick_params(axis=\"x\", rotation=90)\n",
    "    \n",
    "visualize_top_10(example_freq_dist, \"Top 10 Word Frequency for Example Tokens\")"
   ]
  },
  {
   "cell_type": "code",
   "execution_count": 19,
   "metadata": {
    "scrolled": true
   },
   "outputs": [
    {
     "data": {
      "text/plain": [
       "2024        wakati\n",
       "2024    wachimbaji\n",
       "2024       wakubwa\n",
       "2024            wa\n",
       "2024          kati\n",
       "           ...    \n",
       "860        alikuwa\n",
       "860     akionekana\n",
       "860             na\n",
       "860       walemavu\n",
       "860        amesema\n",
       "Name: tokens, Length: 1180858, dtype: object"
      ]
     },
     "execution_count": 19,
     "metadata": {},
     "output_type": "execute_result"
    }
   ],
   "source": [
    "X_train[\"tokens\"].explode()"
   ]
  },
  {
   "cell_type": "markdown",
   "metadata": {},
   "source": [
    "##### Top 10 Word Frequency for 3 Samples"
   ]
  },
  {
   "cell_type": "code",
   "execution_count": 20,
   "metadata": {},
   "outputs": [
    {
     "data": {
      "image/png": "[encoded data removed]",
      "text/plain": [
       "<Figure size 432x288 with 1 Axes>"
      ]
     },
     "metadata": {
      "needs_background": "light"
     },
     "output_type": "display_data"
    }
   ],
   "source": [
    "sample_freq_dist = FreqDist(sampled_records[\"tokens\"].explode())\n",
    "visualize_top_10(sample_freq_dist, \"Top 10 Word Frequency for 3 Samples\")"
   ]
  },
  {
   "cell_type": "markdown",
   "metadata": {},
   "source": [
    "##### Top 10 word frequency for train dataset"
   ]
  },
  {
   "cell_type": "code",
   "execution_count": 21,
   "metadata": {},
   "outputs": [
    {
     "data": {
      "image/png": "[encoded data removed]",
      "text/plain": [
       "<Figure size 432x288 with 1 Axes>"
      ]
     },
     "metadata": {
      "needs_background": "light"
     },
     "output_type": "display_data"
    }
   ],
   "source": [
    "\n",
    "# Create a frequency distribution for X_train\n",
    "X_train_freq_dist = FreqDist(X_train[\"tokens\"].explode())\n",
    "\n",
    "# Plot the top 10 tokens\n",
    "visualize_top_10(X_train_freq_dist, \"Top 10 Word Frequency for Full train\")"
   ]
  },
  {
   "cell_type": "markdown",
   "metadata": {},
   "source": [
    "word frequencies in our dataset 'ya'has highest frequency.\n",
    "We can also subdivide this by category, to see if it makes a difference:"
   ]
  },
  {
   "cell_type": "markdown",
   "metadata": {},
   "source": [
    "##### Category Text Distribution\n"
   ]
  },
  {
   "cell_type": "code",
   "execution_count": 22,
   "metadata": {},
   "outputs": [
    {
     "data": {
      "image/png": "[encoded data removed]",
      "text/plain": [
       "<Figure size 1080x648 with 5 Axes>"
      ]
     },
     "metadata": {
      "needs_background": "light"
     },
     "output_type": "display_data"
    }
   ],
   "source": [
    "import matplotlib.pyplot as plt\n",
    "from matplotlib.ticker import MaxNLocator\n",
    "from collections import Counter\n",
    "\n",
    "def setup_five_subplots():\n",
    "    \"\"\"\n",
    "    It's hard to make an odd number of graphs pretty with just nrows\n",
    "    and ncols, so we make a custom grid. See example for more details:\n",
    "    https://matplotlib.org/stable/gallery/subplots_axes_and_figures/gridspec_multicolumn.html\n",
    "\n",
    "    We want the graphs to look like this:\n",
    "     [ ] [ ] [ ]\n",
    "       [ ] [ ]\n",
    "\n",
    "    So we make a 2x6 grid with 5 graphs arranged on it. 3 in the\n",
    "    top row, 2 in the second row\n",
    "\n",
    "      0 1 2 3 4 5\n",
    "    0|[|]|[|]|[|]|\n",
    "    1| |[|]|[|]| |\n",
    "    \"\"\"\n",
    "    fig = plt.figure(figsize=(15, 9))\n",
    "    fig.set_tight_layout(True)\n",
    "    gs = fig.add_gridspec(2, 6)\n",
    "    ax1 = fig.add_subplot(gs[0, :2])  # row 0, cols 0-1\n",
    "    ax2 = fig.add_subplot(gs[0, 2:4])  # row 0, cols 2-3\n",
    "    ax3 = fig.add_subplot(gs[0, 4:])  # row 0, cols 4-5\n",
    "    ax4 = fig.add_subplot(gs[1, 1:3])  # row 1, cols 1-2\n",
    "    ax5 = fig.add_subplot(gs[1, 3:5])  # row 1, cols 3-4\n",
    "    return fig, [ax1, ax2, ax3, ax4, ax5]\n",
    "\n",
    "def plot_distribution_of_column_by_category(column, axes, title=\"Word Frequency for\"):\n",
    "    for index, category in enumerate(train.target_names):\n",
    "        # Filter the dataset for the current category\n",
    "        category_data = train[train[\"category\"] == category][column]\n",
    "        \n",
    "        # Count the occurrences of words in this category\n",
    "        word_counts = Counter(category_data.explode())\n",
    "        \n",
    "        if len(word_counts) > 0:  # Check if there are words to plot\n",
    "            # Get the top 10 most common words and their counts\n",
    "            top_10 = word_counts.most_common(10)\n",
    "            tokens, counts = zip(*top_10)\n",
    "\n",
    "            # Set up plot\n",
    "            ax = axes[index]\n",
    "            ax.bar(tokens, counts)\n",
    "\n",
    "            # Customize plot appearance\n",
    "            ax.set_title(f\"{title} {category}\")\n",
    "            ax.set_ylabel(\"Count\")\n",
    "            ax.yaxis.set_major_locator(MaxNLocator(integer=True))\n",
    "            ax.tick_params(axis=\"x\", rotation=90)\n",
    "        else:\n",
    "            # If there are no words in this category, skip plotting\n",
    "            print(f\"No words found for category: {category}\")\n",
    "\n",
    "# Call the function to set up subplots\n",
    "fig, axes = setup_five_subplots()\n",
    "\n",
    "# Now you can populate each subplot with your category text distributions\n",
    "plot_distribution_of_column_by_category(\"tokens\", axes)\n",
    "\n",
    "# Add a title to the whole figure\n",
    "fig.suptitle(\"Word Frequencies for All Tokens\", fontsize=24)\n",
    "\n",
    "# Show the plot\n",
    "plt.show()\n"
   ]
  },
  {
   "cell_type": "markdown",
   "metadata": {},
   "source": [
    "### 3. Build and Evaluate a Baseline Model with TfidfVectorizer and MultinomialNB"
   ]
  },
  {
   "cell_type": "markdown",
   "metadata": {},
   "source": [
    "We model by constructing a model that essentially only has access to the information depicted in the plots above. Therefore, we utilize the default token pattern to split the full text into tokens and employ a limited vocabulary. To provide the model with slightly more information using the same features, we employ a TfidfVectorizer. This vectorizer not only counts the term frequency (tf) within a single document but also incorporates the inverse document frequency (idf) — indicating how rare the term is.\n",
    "\n",
    "We import the vectorizer, instantiate a vectorizer object, and fit it on train['content']."
   ]
  },
  {
   "cell_type": "code",
   "execution_count": 23,
   "metadata": {},
   "outputs": [
    {
     "data": {
      "text/html": [
       "<div>\n",
       "<style scoped>\n",
       "    .dataframe tbody tr th:only-of-type {\n",
       "        vertical-align: middle;\n",
       "    }\n",
       "\n",
       "    .dataframe tbody tr th {\n",
       "        vertical-align: top;\n",
       "    }\n",
       "\n",
       "    .dataframe thead th {\n",
       "        text-align: right;\n",
       "    }\n",
       "</style>\n",
       "<table border=\"1\" class=\"dataframe\">\n",
       "  <thead>\n",
       "    <tr style=\"text-align: right;\">\n",
       "      <th></th>\n",
       "      <th>content</th>\n",
       "      <th>content_cleaned</th>\n",
       "      <th>tokens</th>\n",
       "    </tr>\n",
       "  </thead>\n",
       "  <tbody>\n",
       "    <tr>\n",
       "      <th>2024</th>\n",
       "      <td>WAKATI wachimbaji wakubwa, wa kati na wadogo ...</td>\n",
       "      <td>wakati wachimbaji wakubwa wa kati na wadogo w...</td>\n",
       "      <td>[wakati, wachimbaji, wakubwa, wa, kati, na, wa...</td>\n",
       "    </tr>\n",
       "    <tr>\n",
       "      <th>3229</th>\n",
       "      <td>NIMEFIKA hospitali moja kubwa hapa jijini Dar...</td>\n",
       "      <td>nimefika hospitali moja kubwa hapa jijini dar...</td>\n",
       "      <td>[nimefika, hospitali, moja, kubwa, hapa, jijin...</td>\n",
       "    </tr>\n",
       "    <tr>\n",
       "      <th>99</th>\n",
       "      <td>Mkurugenzi Mtendaji, wa mfuko huo, Stephen Em...</td>\n",
       "      <td>mkurugenzi mtendaji wa mfuko huo stephen emma...</td>\n",
       "      <td>[mkurugenzi, mtendaji, wa, mfuko, huo, stephen...</td>\n",
       "    </tr>\n",
       "    <tr>\n",
       "      <th>2952</th>\n",
       "      <td>Tasnia ya habari imeaswa kuendana na mabadili...</td>\n",
       "      <td>tasnia ya habari imeaswa kuendana na mabadili...</td>\n",
       "      <td>[tasnia, ya, habari, imeaswa, kuendana, na, ma...</td>\n",
       "    </tr>\n",
       "    <tr>\n",
       "      <th>4580</th>\n",
       "      <td>WAZIRI wa Mambo ya Nje na Ushirikiano wa Afri...</td>\n",
       "      <td>waziri wa mambo ya nje na ushirikiano wa afri...</td>\n",
       "      <td>[waziri, wa, mambo, ya, nje, na, ushirikiano, ...</td>\n",
       "    </tr>\n",
       "  </tbody>\n",
       "</table>\n",
       "</div>"
      ],
      "text/plain": [
       "                                                content  \\\n",
       "2024   WAKATI wachimbaji wakubwa, wa kati na wadogo ...   \n",
       "3229   NIMEFIKA hospitali moja kubwa hapa jijini Dar...   \n",
       "99     Mkurugenzi Mtendaji, wa mfuko huo, Stephen Em...   \n",
       "2952   Tasnia ya habari imeaswa kuendana na mabadili...   \n",
       "4580   WAZIRI wa Mambo ya Nje na Ushirikiano wa Afri...   \n",
       "\n",
       "                                        content_cleaned  \\\n",
       "2024   wakati wachimbaji wakubwa wa kati na wadogo w...   \n",
       "3229   nimefika hospitali moja kubwa hapa jijini dar...   \n",
       "99     mkurugenzi mtendaji wa mfuko huo stephen emma...   \n",
       "2952   tasnia ya habari imeaswa kuendana na mabadili...   \n",
       "4580   waziri wa mambo ya nje na ushirikiano wa afri...   \n",
       "\n",
       "                                                 tokens  \n",
       "2024  [wakati, wachimbaji, wakubwa, wa, kati, na, wa...  \n",
       "3229  [nimefika, hospitali, moja, kubwa, hapa, jijin...  \n",
       "99    [mkurugenzi, mtendaji, wa, mfuko, huo, stephen...  \n",
       "2952  [tasnia, ya, habari, imeaswa, kuendana, na, ma...  \n",
       "4580  [waziri, wa, mambo, ya, nje, na, ushirikiano, ...  "
      ]
     },
     "execution_count": 23,
     "metadata": {},
     "output_type": "execute_result"
    }
   ],
   "source": [
    "# checking X_train Columns \n",
    "X_train.head()"
   ]
  },
  {
   "cell_type": "code",
   "execution_count": 24,
   "metadata": {},
   "outputs": [
    {
     "name": "stdout",
     "output_type": "stream",
     "text": [
      "Train Data Shape: (4120, 3)\n",
      "Test Data Shape: (4120,)\n"
     ]
    }
   ],
   "source": [
    "# Check the shape of X_train data\n",
    "print(\"Train Data Shape:\", X_train.shape)\n",
    "\n",
    "# Check the shape of y_train data\n",
    "print(\"Test Data Shape:\", y_train.shape)"
   ]
  },
  {
   "cell_type": "code",
   "execution_count": 25,
   "metadata": {},
   "outputs": [
    {
     "data": {
      "text/html": [
       "<div>\n",
       "<style scoped>\n",
       "    .dataframe tbody tr th:only-of-type {\n",
       "        vertical-align: middle;\n",
       "    }\n",
       "\n",
       "    .dataframe tbody tr th {\n",
       "        vertical-align: top;\n",
       "    }\n",
       "\n",
       "    .dataframe thead th {\n",
       "        text-align: right;\n",
       "    }\n",
       "</style>\n",
       "<table border=\"1\" class=\"dataframe\">\n",
       "  <thead>\n",
       "    <tr style=\"text-align: right;\">\n",
       "      <th></th>\n",
       "      <th>alisema</th>\n",
       "      <th>hiyo</th>\n",
       "      <th>katika</th>\n",
       "      <th>kwa</th>\n",
       "      <th>la</th>\n",
       "      <th>na</th>\n",
       "      <th>ni</th>\n",
       "      <th>wa</th>\n",
       "      <th>ya</th>\n",
       "      <th>za</th>\n",
       "    </tr>\n",
       "  </thead>\n",
       "  <tbody>\n",
       "    <tr>\n",
       "      <th>0</th>\n",
       "      <td>0.250409</td>\n",
       "      <td>0.081923</td>\n",
       "      <td>0.097709</td>\n",
       "      <td>0.335613</td>\n",
       "      <td>0.079738</td>\n",
       "      <td>0.352984</td>\n",
       "      <td>0.051079</td>\n",
       "      <td>0.485706</td>\n",
       "      <td>0.662005</td>\n",
       "      <td>0.025996</td>\n",
       "    </tr>\n",
       "    <tr>\n",
       "      <th>1</th>\n",
       "      <td>0.000000</td>\n",
       "      <td>0.268900</td>\n",
       "      <td>0.037005</td>\n",
       "      <td>0.254214</td>\n",
       "      <td>0.080532</td>\n",
       "      <td>0.568166</td>\n",
       "      <td>0.348216</td>\n",
       "      <td>0.150506</td>\n",
       "      <td>0.568303</td>\n",
       "      <td>0.255980</td>\n",
       "    </tr>\n",
       "    <tr>\n",
       "      <th>2</th>\n",
       "      <td>0.164773</td>\n",
       "      <td>0.080860</td>\n",
       "      <td>0.144661</td>\n",
       "      <td>0.265006</td>\n",
       "      <td>0.078703</td>\n",
       "      <td>0.522604</td>\n",
       "      <td>0.075624</td>\n",
       "      <td>0.261492</td>\n",
       "      <td>0.653413</td>\n",
       "      <td>0.307900</td>\n",
       "    </tr>\n",
       "    <tr>\n",
       "      <th>3</th>\n",
       "      <td>0.000000</td>\n",
       "      <td>0.000000</td>\n",
       "      <td>0.000000</td>\n",
       "      <td>0.104452</td>\n",
       "      <td>0.062042</td>\n",
       "      <td>0.566459</td>\n",
       "      <td>0.119230</td>\n",
       "      <td>0.360736</td>\n",
       "      <td>0.721123</td>\n",
       "      <td>0.000000</td>\n",
       "    </tr>\n",
       "    <tr>\n",
       "      <th>4</th>\n",
       "      <td>0.063906</td>\n",
       "      <td>0.125443</td>\n",
       "      <td>0.448844</td>\n",
       "      <td>0.154170</td>\n",
       "      <td>0.061049</td>\n",
       "      <td>0.354702</td>\n",
       "      <td>0.058661</td>\n",
       "      <td>0.557795</td>\n",
       "      <td>0.557525</td>\n",
       "      <td>0.000000</td>\n",
       "    </tr>\n",
       "    <tr>\n",
       "      <th>...</th>\n",
       "      <td>...</td>\n",
       "      <td>...</td>\n",
       "      <td>...</td>\n",
       "      <td>...</td>\n",
       "      <td>...</td>\n",
       "      <td>...</td>\n",
       "      <td>...</td>\n",
       "      <td>...</td>\n",
       "      <td>...</td>\n",
       "      <td>...</td>\n",
       "    </tr>\n",
       "    <tr>\n",
       "      <th>4115</th>\n",
       "      <td>0.160203</td>\n",
       "      <td>0.104823</td>\n",
       "      <td>0.070325</td>\n",
       "      <td>0.193242</td>\n",
       "      <td>0.051014</td>\n",
       "      <td>0.698652</td>\n",
       "      <td>0.098036</td>\n",
       "      <td>0.550854</td>\n",
       "      <td>0.338823</td>\n",
       "      <td>0.049894</td>\n",
       "    </tr>\n",
       "    <tr>\n",
       "      <th>4116</th>\n",
       "      <td>0.069544</td>\n",
       "      <td>0.068255</td>\n",
       "      <td>0.091583</td>\n",
       "      <td>0.195733</td>\n",
       "      <td>0.033217</td>\n",
       "      <td>0.303282</td>\n",
       "      <td>0.095754</td>\n",
       "      <td>0.331094</td>\n",
       "      <td>0.854912</td>\n",
       "      <td>0.032488</td>\n",
       "    </tr>\n",
       "    <tr>\n",
       "      <th>4117</th>\n",
       "      <td>0.000000</td>\n",
       "      <td>0.104911</td>\n",
       "      <td>0.218970</td>\n",
       "      <td>0.114609</td>\n",
       "      <td>0.085094</td>\n",
       "      <td>0.508533</td>\n",
       "      <td>0.065412</td>\n",
       "      <td>0.466495</td>\n",
       "      <td>0.649950</td>\n",
       "      <td>0.133160</td>\n",
       "    </tr>\n",
       "    <tr>\n",
       "      <th>4118</th>\n",
       "      <td>0.268864</td>\n",
       "      <td>0.048867</td>\n",
       "      <td>0.087425</td>\n",
       "      <td>0.248239</td>\n",
       "      <td>0.180742</td>\n",
       "      <td>0.529018</td>\n",
       "      <td>0.146250</td>\n",
       "      <td>0.474092</td>\n",
       "      <td>0.505453</td>\n",
       "      <td>0.204685</td>\n",
       "    </tr>\n",
       "    <tr>\n",
       "      <th>4119</th>\n",
       "      <td>0.152208</td>\n",
       "      <td>0.000000</td>\n",
       "      <td>0.133630</td>\n",
       "      <td>0.285597</td>\n",
       "      <td>0.048468</td>\n",
       "      <td>0.804588</td>\n",
       "      <td>0.093144</td>\n",
       "      <td>0.322070</td>\n",
       "      <td>0.281674</td>\n",
       "      <td>0.189614</td>\n",
       "    </tr>\n",
       "  </tbody>\n",
       "</table>\n",
       "<p>4120 rows × 10 columns</p>\n",
       "</div>"
      ],
      "text/plain": [
       "       alisema      hiyo    katika       kwa        la        na        ni  \\\n",
       "0     0.250409  0.081923  0.097709  0.335613  0.079738  0.352984  0.051079   \n",
       "1     0.000000  0.268900  0.037005  0.254214  0.080532  0.568166  0.348216   \n",
       "2     0.164773  0.080860  0.144661  0.265006  0.078703  0.522604  0.075624   \n",
       "3     0.000000  0.000000  0.000000  0.104452  0.062042  0.566459  0.119230   \n",
       "4     0.063906  0.125443  0.448844  0.154170  0.061049  0.354702  0.058661   \n",
       "...        ...       ...       ...       ...       ...       ...       ...   \n",
       "4115  0.160203  0.104823  0.070325  0.193242  0.051014  0.698652  0.098036   \n",
       "4116  0.069544  0.068255  0.091583  0.195733  0.033217  0.303282  0.095754   \n",
       "4117  0.000000  0.104911  0.218970  0.114609  0.085094  0.508533  0.065412   \n",
       "4118  0.268864  0.048867  0.087425  0.248239  0.180742  0.529018  0.146250   \n",
       "4119  0.152208  0.000000  0.133630  0.285597  0.048468  0.804588  0.093144   \n",
       "\n",
       "            wa        ya        za  \n",
       "0     0.485706  0.662005  0.025996  \n",
       "1     0.150506  0.568303  0.255980  \n",
       "2     0.261492  0.653413  0.307900  \n",
       "3     0.360736  0.721123  0.000000  \n",
       "4     0.557795  0.557525  0.000000  \n",
       "...        ...       ...       ...  \n",
       "4115  0.550854  0.338823  0.049894  \n",
       "4116  0.331094  0.854912  0.032488  \n",
       "4117  0.466495  0.649950  0.133160  \n",
       "4118  0.474092  0.505453  0.204685  \n",
       "4119  0.322070  0.281674  0.189614  \n",
       "\n",
       "[4120 rows x 10 columns]"
      ]
     },
     "execution_count": 25,
     "metadata": {},
     "output_type": "execute_result"
    }
   ],
   "source": [
    "# Import the relevant vectorizer class\n",
    "from sklearn.feature_extraction.text import TfidfVectorizer\n",
    "\n",
    "# Instantiate a vectorizer with max_features=10\n",
    "# (we are using the default token pattern)\n",
    "tfidf = TfidfVectorizer(max_features=10)\n",
    "\n",
    "# Fit the vectorizer on X_train[\"content\"] and transform it\n",
    "X_train_vectorized = tfidf.fit_transform(X_train[\"content\"])\n",
    "\n",
    "# Visually inspect the vectorized data\n",
    "pd.DataFrame.sparse.from_spmatrix(X_train_vectorized, columns=tfidf.get_feature_names_out())"
   ]
  },
  {
   "cell_type": "markdown",
   "metadata": {},
   "source": [
    "Now that we have preprocessed data, we fit and evaluate a multinomial Naive Bayes classifier using cross_val_score."
   ]
  },
  {
   "cell_type": "code",
   "execution_count": 26,
   "metadata": {},
   "outputs": [
    {
     "data": {
      "text/plain": [
       "array([0.39320388, 0.39441748, 0.39684466, 0.39563107, 0.39320388])"
      ]
     },
     "execution_count": 26,
     "metadata": {},
     "output_type": "execute_result"
    }
   ],
   "source": [
    "# Import relevant class and function\n",
    "from sklearn.naive_bayes import MultinomialNB\n",
    "from sklearn.model_selection import cross_val_score\n",
    "\n",
    "# Instantiate a MultinomialNB classifier\n",
    "baseline_model = MultinomialNB()\n",
    "\n",
    "# Evaluate the classifier on X_train_vectorized and y_train\n",
    "baseline_cv = cross_val_score(baseline_model, X_train_vectorized, y_train)\n",
    "baseline_cv"
   ]
  },
  {
   "cell_type": "code",
   "execution_count": 27,
   "metadata": {},
   "outputs": [
    {
     "data": {
      "text/plain": [
       "Kitaifa      0.392233\n",
       "michezo      0.329126\n",
       "Biashara     0.264078\n",
       "Kimataifa    0.010922\n",
       "Burudani     0.003641\n",
       "Name: category, dtype: float64"
      ]
     },
     "execution_count": 27,
     "metadata": {},
     "output_type": "execute_result"
    }
   ],
   "source": [
    "y_train.value_counts(normalize=True)"
   ]
  },
  {
   "cell_type": "markdown",
   "metadata": {},
   "source": [
    "The baseline performance of the Multinomial Naive Bayes classifier, evaluated using cross-validation, yields an average accuracy of approximately 39.4%. This indicates that the classifier's predictive ability is slightly better than random chance. However, it's essential to consider the class balance within the dataset, as it significantly influences the interpretation of the results. The class distribution reveals that the majority class, 'Kitaifa', comprises approximately 39.2% of the training data, while the other classes, such as 'michezo' and 'Biashara', are less represented, with proportions of around 32.9% and 26.4%, respectively. This imbalance could affect the classifier's performance, potentially leading to biased predictions favoring the majority class. Thus, while the baseline accuracy provides a starting point for model evaluation, it's crucial to employ additional performance metrics and techniques, such as class weighting or resampling methods, to address the class imbalance and improve the classifier's effectiveness."
   ]
  },
  {
   "cell_type": "markdown",
   "metadata": {},
   "source": [
    "### 4. Iteratively Perform and Evaluate Preprocessing and Feature Engineering Techniques"
   ]
  },
  {
   "cell_type": "markdown",
   "metadata": {},
   "source": [
    "#### Removing Stopwords\n",
    "In general, we assume that stopwords do not contain useful information, but that is not always the case. Let's empirically investigate the top word frequencies of each category to see whether removing stopwords helps us to distinguish between the categories."
   ]
  },
  {
   "cell_type": "markdown",
   "metadata": {},
   "source": [
    "Now that NLTK does not provide a built-in corpus for Swahili stopwords.we created our own list of Swahili stopwords and named it sw_stopwords from an external source  "
   ]
  },
  {
   "cell_type": "code",
   "execution_count": 30,
   "metadata": {},
   "outputs": [],
   "source": [
    "sw_stopwords=[\"akasema\",\"alikuwa\",\"alisema\",\"baada\",\"basi\",\"bila\",\"cha\",\"chini\",\"hadi\",\n",
    "              \"hapo\",\"hata\",\"hivyo\",\"hiyo\",\"huku\",\"huo\",\"ili\",\"ilikuwa\",\"juu\",\"kama\",\"karibu\",\n",
    "              \"katika\",\"kila\",\"kima\",\"kisha\",\"kubwa\",\"kutoka\",\"kuwa\",\"kwa\",\"kwamba\",\"kwenda\",\"kwenye\",\"la\",\"lakini\",\n",
    "              \"mara\",\"mdogo\",\"mimi\",\"mkubwa\",\"mmoja\",\"moja\",\"muda\",\"mwenye\",\"na\",\"naye\",\"ndani\",\"ng\",\"ni\",\"nini\",\n",
    "              \"nonkungu\",\"pamoja\",\"pia\",\"sana\",\"sasa\",\"sauti\",\"tafadhali\",\"tena\",\"tu\",\"vile\",\"wa\",\n",
    "              \"wakati\",\"wake\",\"walikuwa\",\"wao\",\"watu\",\"wengine\",\"wote\",\"ya\",\"yake\",\"yangu\",\"yao\",\"yeye\",\"yule\",\"za\",\n",
    "              \"zaidi\",\"zake\",\"na\",\"ya\",\"wa\",\"kwa\",\"ni\",\"za\",\"katika\",\"la\",\"kuwa\",\"kama\",\"kwamba\",\"cha\",\"hiyo\",\"lakini\",\"yake\",\"hata\",\"wakati\",\n",
    "              \"hivyo\",\"sasa\",\"wake\",\"au\",\"watu\",\"hii\",\"zaidi\",\"vya\",\"huo\",\"tu\",\"kwenye\",\"si\",\"pia\",\"ili\",\"moja\",\"kila\",\"baada\",\"ambao\",\"ambayo\",\"yao\",\"wao\",\"kuna\",\n",
    "              \"hilo\",\"kutoka\",\"kubwa\",\"pamoja\",\"bila\",\"huu\",\"hayo\",\"sana\",\"ndani\",\"mkuu\",\"hizo\",\"kufanya\",\"wengi\",\"hadi\",\"mmoja\",\"hili\",\"juu\",\"kwanza\",\"wetu\",\"kuhusu\",\n",
    "              \"baadhi\",\"wote\",\"yetu\",\"hivi\",\"kweli\",\"mara\",\"wengine\",\"nini\",\"ndiyo\",\"zao\",\"kati\",\"hao\",\"hapa\",\"kutokana\",\"muda\",\"habari\",\"ambaye\",\"wenye\",\"nyingine\",\"hakuna\",\n",
    "              \"tena\",\"hatua\",\"bado\",\"nafasi\",\"basi\",\"kabisa\",\"hicho\",\"nje\",\"huyo\",\"vile\",\"yote\",\"mkubwa\",\"alikuwa\",\"zote\",\"leo\",\"haya\",\"huko\",\"kutoa\",\"mwa\",\"kiasi\",\"hasa\",\"nyingi\",\"kabla\",\"wale\",\"chini\",\"gani\",\"hapo\",\"lazima\",\"mwingine\",\"bali\",\"huku\",\"zake\",\"ilikuwa\",\n",
    "              \"tofauti\",\"kupata\",\"mbalimbali\",\"pale\",\"kusema\",\"badala\",\"wazi\",\"yeye\",\"alisema\",\"hawa\",\n",
    "              \"ndio\",\"hizi\",\"tayari\",\"wala\",\"muhimu\",\"ile\",\"mpya\",\"ambazo\",\"dhidi\",\"kwenda\",\"sisi\",\"kwani\",\n",
    "              \"jinsi\",\"binafsi\",\"kutumia\",\"mbili\",\"mbali\",\"kuu\",\"mengine\",\"mbele\",\"namna\",\"mengi\",\"upande\",\"na\",\"lakini\",\"ingawa\"\n",
    "              \"ingawaje\",\"kwa\",\"sababu\",\"hadi\",\"hata\",\"kama\",\"ambapo\",\"ambamo\",\"ambako\",\"ambacho\",\"ambao\",\"ambaye\",\"ilhali\",\"ya\",\"yake\",\"yao\",\"yangu\",\"yetu\",\"yenu\",\"vya\",\"vyao\",\"vyake\",\"vyangu\",\n",
    "\"vyenu\",\"vyetu\",\"yako\",\"yao\",\"hizo\",\"yenu\",\"mimi\",\"sisi\",\"wewe\",\"nyinyi\",\"yeye\",\"wao\",\"nao\",\"nasi\",\"nanyi\",\"ni\",\"alikuwa\",\"atakuwa\",\"hii\",\"hizi\",\"zile\",\n",
    "\"ile\",\"hivi\",\"vile\",\"za\",\"zake\",\"zao\",\"zenu\",\"kwenye\",\"katika\",\"kwa\",\"kwao\",\"kwenu\",\"kwetu\",\"dhidi\",\"kati\",\"miongoni\",\"katikati\",\"wakati\",\"kabla\",\"baada\",\n",
    "\"baadaye\",\"nje\",\"tena\",\"mbali\",\"halafu\",\"hapa\",\"pale\",\"mara\",\"mara\",\"yoyote\",\"wowote\",\"chochote\",\"vyovyote\",\"yeyote\",\"lolote\",\"mwenye\",\"mwenyewe\",\"lenyewe\",\n",
    "\"lenye\",\"wote\",\"lote\",\"vyote\",\"nyote\",\"kila\",\"zaidi\",\"hapana\",\"ndiyo\",\"au\",\"ama\",\"ama\",\"sio\",\"siye\",\"tu\",\"budi\",\"nyingi\",\"nyingine\",\"wengine\",\"mwingine\",\n",
    "\"zingine\",\"lingine\",\"kingine\",\"chote\",\"sasa\",\"basi\",\"bila\",\"cha\",\"chini\",\"hapo\",\"pale\",\"huku\",\"kule\",\"humu\",\"hivyo\",\"hivyohivyo\",\"vivyo\",\"palepale\",\"fauka\",\n",
    "\"hiyo\",\"hiyohiyo\",\"zile\",\"zilezile\",\"hao\",\"haohao\",\"huku\",\"hukuhuku\",\"humuhumu\",\"huko\",\"hukohuko\",\"huo\",\"huohuo\",\"hili\",\"hilihili\",\"ilikuwa\",\"juu\",\"karibu\",\n",
    "\"kila\",\"kima\",\"kisha\",\"kutoka\",\"kwenda\",\"kubwa\",\"ndogo\",\"kwamba\",\"kuwa\",\"la\",\"lao\",\"lo\",\"mara\",\"na\",\n",
    "\"mdogo\",\"mkubwa\",\"ng’o\",\"pia\",\"aidha\",\"vile\",\"vilevile\",\"kadhalika\",\"halikadhalika\",\"ni\",\"sana\",\"pamoja\",\"pamoja\",\"tafadhali\",\"tena\",\n",
    "\"wa\",\"wake\",\"wao\",\n",
    "\"ya\",\"yule\",\"wale\",\"zangu\",\"nje\",\"afanaleki\",\"salale\",\"oyee\",\"yupi\",\"ipi\",\"lipi\",\"ngapi\",\"yetu\",\"si\",\"angali\",\"wangali\",\"loo\",\"la\",\"ohoo\",\n",
    "\"barabara\",\"oyee\",\n",
    "\"ewaa\",\"walahi\",\"masalale\",\"duu\",\"toba\",\"mh\",\"kumbe\",\"ala\",\"ebo\",\"haraka\",\"pole\",\"polepole\",\"harakaharaka\",\"hiyo\",\"hivyo\",\"vyovyote\",\n",
    "\"atakuwa\",\"itakuwa\",\"mtakuwa\",\n",
    "\"tutakuwa\",\"labda\",\"yumkini\",\"haiyumkini\",\"yapata\",\"takribani\",\"hususani\",\"yawezekana\",\"nani\",\"juu\"\"chini\",\n",
    "\"ndani\",\"baadhi\",\"kuliko\",\"vile\",\"mwa\",\"kwa\",\"hasha\",\"hivyo\",\"moja\",\"kisha\",\n",
    "\"pili\",\"kwanza\",\"ili\",\"je\",\"jinsi\",\"ila\",\"ila\",\"nini\",\"hasa\",\"huu\",\"zako\",\"mimi\",\n",
    "]"
   ]
  },
  {
   "cell_type": "code",
   "execution_count": 31,
   "metadata": {},
   "outputs": [],
   "source": [
    "def remove_stopwords(token_list):\n",
    "    \"\"\"\n",
    "    Given a list of tokens, return a list where the tokens\n",
    "    that are also present in stopwords_list have been\n",
    "    removed\n",
    "    \"\"\"\n",
    "    stopwords_removed = [token for token in token_list if token not in sw_stopwords]\n",
    "    return stopwords_removed\n"
   ]
  },
  {
   "cell_type": "code",
   "execution_count": 32,
   "metadata": {},
   "outputs": [
    {
     "name": "stdout",
     "output_type": "stream",
     "text": [
      "Length with stopwords: 312\n",
      "Length without stopwords: 193\n"
     ]
    }
   ],
   "source": [
    "tokens_example = X_train.iloc[100][\"tokens\"]\n",
    "print(\"Length with stopwords:\", len(tokens_example))\n",
    "\n",
    "\n",
    "tokens_example_without_stopwords = remove_stopwords(tokens_example)\n",
    "print(\"Length without stopwords:\", len(tokens_example_without_stopwords))\n"
   ]
  },
  {
   "cell_type": "code",
   "execution_count": 33,
   "metadata": {},
   "outputs": [
    {
     "data": {
      "text/html": [
       "<div>\n",
       "<style scoped>\n",
       "    .dataframe tbody tr th:only-of-type {\n",
       "        vertical-align: middle;\n",
       "    }\n",
       "\n",
       "    .dataframe tbody tr th {\n",
       "        vertical-align: top;\n",
       "    }\n",
       "\n",
       "    .dataframe thead th {\n",
       "        text-align: right;\n",
       "    }\n",
       "</style>\n",
       "<table border=\"1\" class=\"dataframe\">\n",
       "  <thead>\n",
       "    <tr style=\"text-align: right;\">\n",
       "      <th></th>\n",
       "      <th>content</th>\n",
       "      <th>content_cleaned</th>\n",
       "      <th>tokens</th>\n",
       "      <th>text_without_stopwords</th>\n",
       "    </tr>\n",
       "  </thead>\n",
       "  <tbody>\n",
       "    <tr>\n",
       "      <th>2024</th>\n",
       "      <td>WAKATI wachimbaji wakubwa, wa kati na wadogo ...</td>\n",
       "      <td>wakati wachimbaji wakubwa wa kati na wadogo w...</td>\n",
       "      <td>[wakati, wachimbaji, wakubwa, wa, kati, na, wa...</td>\n",
       "      <td>[wachimbaji, wakubwa, wadogo, wakibadilishana,...</td>\n",
       "    </tr>\n",
       "    <tr>\n",
       "      <th>3229</th>\n",
       "      <td>NIMEFIKA hospitali moja kubwa hapa jijini Dar...</td>\n",
       "      <td>nimefika hospitali moja kubwa hapa jijini dar...</td>\n",
       "      <td>[nimefika, hospitali, moja, kubwa, hapa, jijin...</td>\n",
       "      <td>[nimefika, hospitali, jijini, dar, es, salaam,...</td>\n",
       "    </tr>\n",
       "    <tr>\n",
       "      <th>99</th>\n",
       "      <td>Mkurugenzi Mtendaji, wa mfuko huo, Stephen Em...</td>\n",
       "      <td>mkurugenzi mtendaji wa mfuko huo stephen emma...</td>\n",
       "      <td>[mkurugenzi, mtendaji, wa, mfuko, huo, stephen...</td>\n",
       "      <td>[mkurugenzi, mtendaji, mfuko, stephen, emmanue...</td>\n",
       "    </tr>\n",
       "    <tr>\n",
       "      <th>2952</th>\n",
       "      <td>Tasnia ya habari imeaswa kuendana na mabadili...</td>\n",
       "      <td>tasnia ya habari imeaswa kuendana na mabadili...</td>\n",
       "      <td>[tasnia, ya, habari, imeaswa, kuendana, na, ma...</td>\n",
       "      <td>[tasnia, imeaswa, kuendana, mabadiliko, teknol...</td>\n",
       "    </tr>\n",
       "    <tr>\n",
       "      <th>4580</th>\n",
       "      <td>WAZIRI wa Mambo ya Nje na Ushirikiano wa Afri...</td>\n",
       "      <td>waziri wa mambo ya nje na ushirikiano wa afri...</td>\n",
       "      <td>[waziri, wa, mambo, ya, nje, na, ushirikiano, ...</td>\n",
       "      <td>[waziri, mambo, ushirikiano, afrika, mashariki...</td>\n",
       "    </tr>\n",
       "  </tbody>\n",
       "</table>\n",
       "</div>"
      ],
      "text/plain": [
       "                                                content  \\\n",
       "2024   WAKATI wachimbaji wakubwa, wa kati na wadogo ...   \n",
       "3229   NIMEFIKA hospitali moja kubwa hapa jijini Dar...   \n",
       "99     Mkurugenzi Mtendaji, wa mfuko huo, Stephen Em...   \n",
       "2952   Tasnia ya habari imeaswa kuendana na mabadili...   \n",
       "4580   WAZIRI wa Mambo ya Nje na Ushirikiano wa Afri...   \n",
       "\n",
       "                                        content_cleaned  \\\n",
       "2024   wakati wachimbaji wakubwa wa kati na wadogo w...   \n",
       "3229   nimefika hospitali moja kubwa hapa jijini dar...   \n",
       "99     mkurugenzi mtendaji wa mfuko huo stephen emma...   \n",
       "2952   tasnia ya habari imeaswa kuendana na mabadili...   \n",
       "4580   waziri wa mambo ya nje na ushirikiano wa afri...   \n",
       "\n",
       "                                                 tokens  \\\n",
       "2024  [wakati, wachimbaji, wakubwa, wa, kati, na, wa...   \n",
       "3229  [nimefika, hospitali, moja, kubwa, hapa, jijin...   \n",
       "99    [mkurugenzi, mtendaji, wa, mfuko, huo, stephen...   \n",
       "2952  [tasnia, ya, habari, imeaswa, kuendana, na, ma...   \n",
       "4580  [waziri, wa, mambo, ya, nje, na, ushirikiano, ...   \n",
       "\n",
       "                                 text_without_stopwords  \n",
       "2024  [wachimbaji, wakubwa, wadogo, wakibadilishana,...  \n",
       "3229  [nimefika, hospitali, jijini, dar, es, salaam,...  \n",
       "99    [mkurugenzi, mtendaji, mfuko, stephen, emmanue...  \n",
       "2952  [tasnia, imeaswa, kuendana, mabadiliko, teknol...  \n",
       "4580  [waziri, mambo, ushirikiano, afrika, mashariki...  "
      ]
     },
     "execution_count": 33,
     "metadata": {},
     "output_type": "execute_result"
    }
   ],
   "source": [
    "X_train[\"text_without_stopwords\"] = X_train[\"tokens\"].apply(remove_stopwords)\n",
    "X_train.head()"
   ]
  },
  {
   "cell_type": "code",
   "execution_count": 34,
   "metadata": {},
   "outputs": [
    {
     "data": {
      "image/png": "[encoded data removed]",
      "text/plain": [
       "<Figure size 1080x648 with 5 Axes>"
      ]
     },
     "metadata": {
      "needs_background": "light"
     },
     "output_type": "display_data"
    }
   ],
   "source": [
    "#apply stopwords to train dataset\n",
    "train[\"text_without_stopwords\"] = train[\"tokens\"].apply(remove_stopwords)\n",
    "fig, axes = setup_five_subplots()\n",
    "plot_distribution_of_column_by_category(\"text_without_stopwords\", axes)\n",
    "fig.suptitle(\"Word Frequencies without Stopwords\", fontsize=24);"
   ]
  },
  {
   "cell_type": "markdown",
   "metadata": {},
   "source": [
    "The most common words differ significantly between categories now apart from serikali which appears in three categories, meaning that hopefully our model will have an easier time distinguishing between them.\n",
    "\n",
    "we can check model performance after removing stopwrds, when instantiating the vectorizer:"
   ]
  },
  {
   "cell_type": "code",
   "execution_count": 36,
   "metadata": {},
   "outputs": [
    {
     "data": {
      "text/html": [
       "<div>\n",
       "<style scoped>\n",
       "    .dataframe tbody tr th:only-of-type {\n",
       "        vertical-align: middle;\n",
       "    }\n",
       "\n",
       "    .dataframe tbody tr th {\n",
       "        vertical-align: top;\n",
       "    }\n",
       "\n",
       "    .dataframe thead th {\n",
       "        text-align: right;\n",
       "    }\n",
       "</style>\n",
       "<table border=\"1\" class=\"dataframe\">\n",
       "  <thead>\n",
       "    <tr style=\"text-align: right;\">\n",
       "      <th></th>\n",
       "      <th>fedha</th>\n",
       "      <th>kazi</th>\n",
       "      <th>mchezo</th>\n",
       "      <th>mwaka</th>\n",
       "      <th>nchi</th>\n",
       "      <th>nchini</th>\n",
       "      <th>serikali</th>\n",
       "      <th>sh</th>\n",
       "      <th>tanzania</th>\n",
       "      <th>timu</th>\n",
       "    </tr>\n",
       "  </thead>\n",
       "  <tbody>\n",
       "    <tr>\n",
       "      <th>0</th>\n",
       "      <td>0.117273</td>\n",
       "      <td>0.000000</td>\n",
       "      <td>0.000000</td>\n",
       "      <td>0.330932</td>\n",
       "      <td>0.102255</td>\n",
       "      <td>0.000000</td>\n",
       "      <td>0.562398</td>\n",
       "      <td>0.741608</td>\n",
       "      <td>0.000000</td>\n",
       "      <td>0.000000</td>\n",
       "    </tr>\n",
       "    <tr>\n",
       "      <th>1</th>\n",
       "      <td>0.000000</td>\n",
       "      <td>0.454938</td>\n",
       "      <td>0.000000</td>\n",
       "      <td>0.359551</td>\n",
       "      <td>0.000000</td>\n",
       "      <td>0.000000</td>\n",
       "      <td>0.814711</td>\n",
       "      <td>0.000000</td>\n",
       "      <td>0.000000</td>\n",
       "      <td>0.000000</td>\n",
       "    </tr>\n",
       "    <tr>\n",
       "      <th>2</th>\n",
       "      <td>0.000000</td>\n",
       "      <td>0.000000</td>\n",
       "      <td>0.000000</td>\n",
       "      <td>1.000000</td>\n",
       "      <td>0.000000</td>\n",
       "      <td>0.000000</td>\n",
       "      <td>0.000000</td>\n",
       "      <td>0.000000</td>\n",
       "      <td>0.000000</td>\n",
       "      <td>0.000000</td>\n",
       "    </tr>\n",
       "    <tr>\n",
       "      <th>3</th>\n",
       "      <td>0.000000</td>\n",
       "      <td>0.622718</td>\n",
       "      <td>0.000000</td>\n",
       "      <td>0.492152</td>\n",
       "      <td>0.608283</td>\n",
       "      <td>0.000000</td>\n",
       "      <td>0.000000</td>\n",
       "      <td>0.000000</td>\n",
       "      <td>0.000000</td>\n",
       "      <td>0.000000</td>\n",
       "    </tr>\n",
       "    <tr>\n",
       "      <th>4</th>\n",
       "      <td>0.000000</td>\n",
       "      <td>0.000000</td>\n",
       "      <td>0.000000</td>\n",
       "      <td>0.338874</td>\n",
       "      <td>0.418837</td>\n",
       "      <td>0.759538</td>\n",
       "      <td>0.000000</td>\n",
       "      <td>0.000000</td>\n",
       "      <td>0.364474</td>\n",
       "      <td>0.000000</td>\n",
       "    </tr>\n",
       "    <tr>\n",
       "      <th>...</th>\n",
       "      <td>...</td>\n",
       "      <td>...</td>\n",
       "      <td>...</td>\n",
       "      <td>...</td>\n",
       "      <td>...</td>\n",
       "      <td>...</td>\n",
       "      <td>...</td>\n",
       "      <td>...</td>\n",
       "      <td>...</td>\n",
       "      <td>...</td>\n",
       "    </tr>\n",
       "    <tr>\n",
       "      <th>4115</th>\n",
       "      <td>0.000000</td>\n",
       "      <td>0.527552</td>\n",
       "      <td>0.000000</td>\n",
       "      <td>0.000000</td>\n",
       "      <td>0.515323</td>\n",
       "      <td>0.000000</td>\n",
       "      <td>0.629833</td>\n",
       "      <td>0.000000</td>\n",
       "      <td>0.149479</td>\n",
       "      <td>0.192605</td>\n",
       "    </tr>\n",
       "    <tr>\n",
       "      <th>4116</th>\n",
       "      <td>0.000000</td>\n",
       "      <td>0.000000</td>\n",
       "      <td>0.184186</td>\n",
       "      <td>0.000000</td>\n",
       "      <td>0.143244</td>\n",
       "      <td>0.129882</td>\n",
       "      <td>0.000000</td>\n",
       "      <td>0.000000</td>\n",
       "      <td>0.000000</td>\n",
       "      <td>0.963684</td>\n",
       "    </tr>\n",
       "    <tr>\n",
       "      <th>4117</th>\n",
       "      <td>0.000000</td>\n",
       "      <td>0.000000</td>\n",
       "      <td>0.000000</td>\n",
       "      <td>0.730111</td>\n",
       "      <td>0.000000</td>\n",
       "      <td>0.272740</td>\n",
       "      <td>0.000000</td>\n",
       "      <td>0.000000</td>\n",
       "      <td>0.436259</td>\n",
       "      <td>0.449698</td>\n",
       "    </tr>\n",
       "    <tr>\n",
       "      <th>4118</th>\n",
       "      <td>0.281397</td>\n",
       "      <td>0.313981</td>\n",
       "      <td>0.000000</td>\n",
       "      <td>0.347408</td>\n",
       "      <td>0.429384</td>\n",
       "      <td>0.166857</td>\n",
       "      <td>0.393598</td>\n",
       "      <td>0.222437</td>\n",
       "      <td>0.533789</td>\n",
       "      <td>0.000000</td>\n",
       "    </tr>\n",
       "    <tr>\n",
       "      <th>4119</th>\n",
       "      <td>0.000000</td>\n",
       "      <td>0.000000</td>\n",
       "      <td>0.000000</td>\n",
       "      <td>0.000000</td>\n",
       "      <td>0.000000</td>\n",
       "      <td>0.000000</td>\n",
       "      <td>0.000000</td>\n",
       "      <td>0.000000</td>\n",
       "      <td>0.000000</td>\n",
       "      <td>0.000000</td>\n",
       "    </tr>\n",
       "  </tbody>\n",
       "</table>\n",
       "<p>4120 rows × 10 columns</p>\n",
       "</div>"
      ],
      "text/plain": [
       "         fedha      kazi    mchezo     mwaka      nchi    nchini  serikali  \\\n",
       "0     0.117273  0.000000  0.000000  0.330932  0.102255  0.000000  0.562398   \n",
       "1     0.000000  0.454938  0.000000  0.359551  0.000000  0.000000  0.814711   \n",
       "2     0.000000  0.000000  0.000000  1.000000  0.000000  0.000000  0.000000   \n",
       "3     0.000000  0.622718  0.000000  0.492152  0.608283  0.000000  0.000000   \n",
       "4     0.000000  0.000000  0.000000  0.338874  0.418837  0.759538  0.000000   \n",
       "...        ...       ...       ...       ...       ...       ...       ...   \n",
       "4115  0.000000  0.527552  0.000000  0.000000  0.515323  0.000000  0.629833   \n",
       "4116  0.000000  0.000000  0.184186  0.000000  0.143244  0.129882  0.000000   \n",
       "4117  0.000000  0.000000  0.000000  0.730111  0.000000  0.272740  0.000000   \n",
       "4118  0.281397  0.313981  0.000000  0.347408  0.429384  0.166857  0.393598   \n",
       "4119  0.000000  0.000000  0.000000  0.000000  0.000000  0.000000  0.000000   \n",
       "\n",
       "            sh  tanzania      timu  \n",
       "0     0.741608  0.000000  0.000000  \n",
       "1     0.000000  0.000000  0.000000  \n",
       "2     0.000000  0.000000  0.000000  \n",
       "3     0.000000  0.000000  0.000000  \n",
       "4     0.000000  0.364474  0.000000  \n",
       "...        ...       ...       ...  \n",
       "4115  0.000000  0.149479  0.192605  \n",
       "4116  0.000000  0.000000  0.963684  \n",
       "4117  0.000000  0.436259  0.449698  \n",
       "4118  0.222437  0.533789  0.000000  \n",
       "4119  0.000000  0.000000  0.000000  \n",
       "\n",
       "[4120 rows x 10 columns]"
      ]
     },
     "execution_count": 36,
     "metadata": {},
     "output_type": "execute_result"
    }
   ],
   "source": [
    "# Instantiate the vectorizer\n",
    "tfidf = TfidfVectorizer(\n",
    "    max_features=10,\n",
    "    stop_words = sw_stopwords\n",
    ")\n",
    "\n",
    "# Fit the vectorizer on X_train[\"text\"] and transform it\n",
    "X_train_vectorized = tfidf.fit_transform(X_train[\"content\"])\n",
    "\n",
    "# Visually inspect the vectorized data\n",
    "pd.DataFrame.sparse.from_spmatrix(X_train_vectorized, columns=tfidf.get_feature_names_out())"
   ]
  },
  {
   "cell_type": "code",
   "execution_count": 39,
   "metadata": {},
   "outputs": [
    {
     "data": {
      "text/plain": [
       "array([0.64320388, 0.62378641, 0.63106796, 0.63228155, 0.6407767 ])"
      ]
     },
     "execution_count": 39,
     "metadata": {},
     "output_type": "execute_result"
    }
   ],
   "source": [
    "# Evaluate the classifier on X_train_vectorized and y_train\n",
    "no_stopwords_cv = cross_val_score(baseline_model, X_train_vectorized, y_train)\n",
    "no_stopwords_cv"
   ]
  },
  {
   "cell_type": "code",
   "execution_count": 40,
   "metadata": {},
   "outputs": [
    {
     "name": "stdout",
     "output_type": "stream",
     "text": [
      "Baseline:          0.3946601941747573\n",
      "Stopwords removed: 0.6342233009708739\n"
     ]
    }
   ],
   "source": [
    "print(\"Baseline:         \", baseline_cv.mean())\n",
    "print(\"Stopwords removed:\", no_stopwords_cv.mean())"
   ]
  },
  {
   "cell_type": "markdown",
   "metadata": {},
   "source": [
    "#### Using Custom Tokens"
   ]
  },
  {
   "cell_type": "code",
   "execution_count": 4,
   "metadata": {},
   "outputs": [
    {
     "name": "stdout",
     "output_type": "stream",
     "text": [
      "majani\n"
     ]
    }
   ],
   "source": [
    "from nltk.stem.snowball import SnowballStemmer\n",
    "\n",
    "# Initialize the SnowballStemmer for Swahili language\n",
    "stemmer = SnowballStemmer(language=\"english\")\n",
    "\n",
    "# Test the stemmer\n",
    "print(stemmer.stem(\"majani\"))  # Output: majan\n"
   ]
  },
  {
   "cell_type": "code",
   "execution_count": 2,
   "metadata": {},
   "outputs": [
    {
     "ename": "ValueError",
     "evalue": "The language 'sw' is not supported.",
     "output_type": "error",
     "traceback": [
      "\u001b[1;31m---------------------------------------------------------------------------\u001b[0m",
      "\u001b[1;31mValueError\u001b[0m                                Traceback (most recent call last)",
      "\u001b[1;32m<ipython-input-2-22303534d53f>\u001b[0m in \u001b[0;36m<module>\u001b[1;34m\u001b[0m\n\u001b[0;32m      2\u001b[0m \u001b[1;33m\u001b[0m\u001b[0m\n\u001b[0;32m      3\u001b[0m \u001b[1;31m# Initialize the SnowballStemmer for Swahili language\u001b[0m\u001b[1;33m\u001b[0m\u001b[1;33m\u001b[0m\u001b[1;33m\u001b[0m\u001b[0m\n\u001b[1;32m----> 4\u001b[1;33m \u001b[0mstemmer\u001b[0m \u001b[1;33m=\u001b[0m \u001b[0mSnowballStemmer\u001b[0m\u001b[1;33m(\u001b[0m\u001b[0mlanguage\u001b[0m\u001b[1;33m=\u001b[0m\u001b[1;34m\"sw\"\u001b[0m\u001b[1;33m)\u001b[0m\u001b[1;33m\u001b[0m\u001b[1;33m\u001b[0m\u001b[0m\n\u001b[0m\u001b[0;32m      5\u001b[0m \u001b[1;33m\u001b[0m\u001b[0m\n\u001b[0;32m      6\u001b[0m \u001b[1;31m# Define a function to stem and tokenize a document\u001b[0m\u001b[1;33m\u001b[0m\u001b[1;33m\u001b[0m\u001b[1;33m\u001b[0m\u001b[0m\n",
      "\u001b[1;32m~\\anaconda3\\envs\\learn-env\\lib\\site-packages\\nltk\\stem\\snowball.py\u001b[0m in \u001b[0;36m__init__\u001b[1;34m(self, language, ignore_stopwords)\u001b[0m\n\u001b[0;32m    106\u001b[0m     \u001b[1;32mdef\u001b[0m \u001b[0m__init__\u001b[0m\u001b[1;33m(\u001b[0m\u001b[0mself\u001b[0m\u001b[1;33m,\u001b[0m \u001b[0mlanguage\u001b[0m\u001b[1;33m,\u001b[0m \u001b[0mignore_stopwords\u001b[0m\u001b[1;33m=\u001b[0m\u001b[1;32mFalse\u001b[0m\u001b[1;33m)\u001b[0m\u001b[1;33m:\u001b[0m\u001b[1;33m\u001b[0m\u001b[1;33m\u001b[0m\u001b[0m\n\u001b[0;32m    107\u001b[0m         \u001b[1;32mif\u001b[0m \u001b[0mlanguage\u001b[0m \u001b[1;32mnot\u001b[0m \u001b[1;32min\u001b[0m \u001b[0mself\u001b[0m\u001b[1;33m.\u001b[0m\u001b[0mlanguages\u001b[0m\u001b[1;33m:\u001b[0m\u001b[1;33m\u001b[0m\u001b[1;33m\u001b[0m\u001b[0m\n\u001b[1;32m--> 108\u001b[1;33m             \u001b[1;32mraise\u001b[0m \u001b[0mValueError\u001b[0m\u001b[1;33m(\u001b[0m\u001b[1;34m\"The language '{0}' is not supported.\"\u001b[0m\u001b[1;33m.\u001b[0m\u001b[0mformat\u001b[0m\u001b[1;33m(\u001b[0m\u001b[0mlanguage\u001b[0m\u001b[1;33m)\u001b[0m\u001b[1;33m)\u001b[0m\u001b[1;33m\u001b[0m\u001b[1;33m\u001b[0m\u001b[0m\n\u001b[0m\u001b[0;32m    109\u001b[0m         \u001b[0mstemmerclass\u001b[0m \u001b[1;33m=\u001b[0m \u001b[0mglobals\u001b[0m\u001b[1;33m(\u001b[0m\u001b[1;33m)\u001b[0m\u001b[1;33m[\u001b[0m\u001b[0mlanguage\u001b[0m\u001b[1;33m.\u001b[0m\u001b[0mcapitalize\u001b[0m\u001b[1;33m(\u001b[0m\u001b[1;33m)\u001b[0m \u001b[1;33m+\u001b[0m \u001b[1;34m\"Stemmer\"\u001b[0m\u001b[1;33m]\u001b[0m\u001b[1;33m\u001b[0m\u001b[1;33m\u001b[0m\u001b[0m\n\u001b[0;32m    110\u001b[0m         \u001b[0mself\u001b[0m\u001b[1;33m.\u001b[0m\u001b[0mstemmer\u001b[0m \u001b[1;33m=\u001b[0m \u001b[0mstemmerclass\u001b[0m\u001b[1;33m(\u001b[0m\u001b[0mignore_stopwords\u001b[0m\u001b[1;33m)\u001b[0m\u001b[1;33m\u001b[0m\u001b[1;33m\u001b[0m\u001b[0m\n",
      "\u001b[1;31mValueError\u001b[0m: The language 'sw' is not supported."
     ]
    }
   ],
   "source": [
    "from nltk.stem.snowball import SnowballStemmer\n",
    "\n",
    "# Initialize the SnowballStemmer for Swahili language\n",
    "stemmer = SnowballStemmer(language=\"sw\")\n",
    "\n",
    "# Define a function to stem and tokenize a document\n",
    "def stem_and_tokenize(document):\n",
    "    # Tokenize the document\n",
    "    tokens = tokenizer.tokenize(document)\n",
    "    # Stem each token using the SnowballStemmer\n",
    "    return [stemmer.stem(token) for token in tokens]\n",
    "\n",
    "\n"
   ]
  },
  {
   "cell_type": "markdown",
   "metadata": {},
   "source": [
    "#### Domain-Specific Feature Engineering"
   ]
  },
  {
   "cell_type": "markdown",
   "metadata": {},
   "source": [
    "##### Number of Sentences-Does the number of sentences in a post differ by category?"
   ]
  },
  {
   "cell_type": "markdown",
   "metadata": {},
   "source": [
    "#### Increasing max_features"
   ]
  },
  {
   "cell_type": "markdown",
   "metadata": {},
   "source": []
  },
  {
   "cell_type": "markdown",
   "metadata": {},
   "source": [
    "### 5. Evaluate a Final Model on the Test Set\n"
   ]
  },
  {
   "cell_type": "markdown",
   "metadata": {},
   "source": [
    "### Interpreting Results"
   ]
  }
 ],
 "metadata": {
  "kernelspec": {
   "display_name": "Python (learn-env)",
   "language": "python",
   "name": "learn-env"
  },
  "language_info": {
   "codemirror_mode": {
    "name": "ipython",
    "version": 3
   },
   "file_extension": ".py",
   "mimetype": "text/x-python",
   "name": "python",
   "nbconvert_exporter": "python",
   "pygments_lexer": "ipython3",
   "version": "3.8.18"
  }
 },
 "nbformat": 4,
 "nbformat_minor": 4
}
